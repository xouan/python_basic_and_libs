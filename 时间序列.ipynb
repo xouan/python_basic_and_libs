{
 "cells": [
  {
   "cell_type": "code",
   "execution_count": null,
   "metadata": {},
   "outputs": [],
   "source": []
  },
  {
   "cell_type": "markdown",
   "metadata": {},
   "source": [
    "## datetime模块中的数据类型\n",
    "- data 以公历形式存储日期（年、月、日）\n",
    "- time 将时间存储为时、分、秒、毫秒\n",
    "- datatime 存储日期和时间\n",
    "- timedelta 表示两个datetime之间的差\n"
   ]
  },
  {
   "cell_type": "markdown",
   "metadata": {},
   "source": [
    "## 字符串和datetime的相互转换"
   ]
  },
  {
   "cell_type": "code",
   "execution_count": 1,
   "metadata": {},
   "outputs": [],
   "source": [
    "from datetime import datetime"
   ]
  },
  {
   "cell_type": "code",
   "execution_count": 2,
   "metadata": {},
   "outputs": [],
   "source": [
    "now = datetime.now()"
   ]
  },
  {
   "cell_type": "code",
   "execution_count": 3,
   "metadata": {},
   "outputs": [
    {
     "data": {
      "text/plain": [
       "datetime.datetime(2018, 9, 2, 10, 58, 8, 96597)"
      ]
     },
     "execution_count": 3,
     "metadata": {},
     "output_type": "execute_result"
    }
   ],
   "source": [
    "now"
   ]
  },
  {
   "cell_type": "code",
   "execution_count": 7,
   "metadata": {},
   "outputs": [
    {
     "data": {
      "text/plain": [
       "(2018, 9, 2, 10, 58, 8)"
      ]
     },
     "execution_count": 7,
     "metadata": {},
     "output_type": "execute_result"
    }
   ],
   "source": [
    "now.year, now.month, now.day, now.hour, now.minute, now.second"
   ]
  },
  {
   "cell_type": "code",
   "execution_count": 11,
   "metadata": {},
   "outputs": [],
   "source": [
    "from dateutil.parser import parse\n",
    "import pandas as pd"
   ]
  },
  {
   "cell_type": "code",
   "execution_count": 12,
   "metadata": {},
   "outputs": [
    {
     "data": {
      "text/plain": [
       "datetime.datetime(2011, 2, 5, 0, 0)"
      ]
     },
     "execution_count": 12,
     "metadata": {},
     "output_type": "execute_result"
    }
   ],
   "source": [
    "parse('2011-2-5')"
   ]
  },
  {
   "cell_type": "code",
   "execution_count": 13,
   "metadata": {},
   "outputs": [],
   "source": [
    "datestrs = ['2011-07-06 12:00:00', '2011-08-06 00:00:00']\n"
   ]
  },
  {
   "cell_type": "code",
   "execution_count": 14,
   "metadata": {},
   "outputs": [
    {
     "data": {
      "text/plain": [
       "DatetimeIndex(['2011-07-06 12:00:00', '2011-08-06 00:00:00'], dtype='datetime64[ns]', freq=None)"
      ]
     },
     "execution_count": 14,
     "metadata": {},
     "output_type": "execute_result"
    }
   ],
   "source": [
    "pd.to_datetime(datestrs)"
   ]
  },
  {
   "cell_type": "code",
   "execution_count": 15,
   "metadata": {},
   "outputs": [],
   "source": [
    "idx = pd.to_datetime(datestrs + [None])"
   ]
  },
  {
   "cell_type": "code",
   "execution_count": 16,
   "metadata": {},
   "outputs": [
    {
     "data": {
      "text/plain": [
       "DatetimeIndex(['2011-07-06 12:00:00', '2011-08-06 00:00:00', 'NaT'], dtype='datetime64[ns]', freq=None)"
      ]
     },
     "execution_count": 16,
     "metadata": {},
     "output_type": "execute_result"
    }
   ],
   "source": [
    "idx"
   ]
  },
  {
   "cell_type": "code",
   "execution_count": 17,
   "metadata": {},
   "outputs": [
    {
     "data": {
      "text/plain": [
       "array([False, False,  True])"
      ]
     },
     "execution_count": 17,
     "metadata": {},
     "output_type": "execute_result"
    }
   ],
   "source": [
    "pd.isnull(idx)"
   ]
  },
  {
   "cell_type": "code",
   "execution_count": 21,
   "metadata": {},
   "outputs": [],
   "source": [
    "from datetime import datetime\n",
    "import numpy as np"
   ]
  },
  {
   "cell_type": "code",
   "execution_count": 22,
   "metadata": {},
   "outputs": [],
   "source": [
    "dates = [datetime(2011, 1, 2), datetime(2011, 1, 5),\n",
    "   ....:          datetime(2011, 1, 7), datetime(2011, 1, 8),\n",
    "   ....:          datetime(2011, 1, 10), datetime(2011, 1, 12)]\n"
   ]
  },
  {
   "cell_type": "code",
   "execution_count": 23,
   "metadata": {},
   "outputs": [
    {
     "data": {
      "text/plain": [
       "[datetime.datetime(2011, 1, 2, 0, 0),\n",
       " datetime.datetime(2011, 1, 5, 0, 0),\n",
       " datetime.datetime(2011, 1, 7, 0, 0),\n",
       " datetime.datetime(2011, 1, 8, 0, 0),\n",
       " datetime.datetime(2011, 1, 10, 0, 0),\n",
       " datetime.datetime(2011, 1, 12, 0, 0)]"
      ]
     },
     "execution_count": 23,
     "metadata": {},
     "output_type": "execute_result"
    }
   ],
   "source": [
    "dates"
   ]
  },
  {
   "cell_type": "code",
   "execution_count": 24,
   "metadata": {},
   "outputs": [],
   "source": [
    "ts = pd.Series(np.random.randn(6), index=dates)"
   ]
  },
  {
   "cell_type": "code",
   "execution_count": 25,
   "metadata": {},
   "outputs": [
    {
     "data": {
      "text/plain": [
       "2011-01-02    0.858784\n",
       "2011-01-05    0.329254\n",
       "2011-01-07   -0.005206\n",
       "2011-01-08    0.534225\n",
       "2011-01-10   -0.411104\n",
       "2011-01-12    0.629748\n",
       "dtype: float64"
      ]
     },
     "execution_count": 25,
     "metadata": {},
     "output_type": "execute_result"
    }
   ],
   "source": [
    "ts"
   ]
  },
  {
   "cell_type": "code",
   "execution_count": 26,
   "metadata": {},
   "outputs": [
    {
     "data": {
      "text/plain": [
       "DatetimeIndex(['2011-01-02', '2011-01-05', '2011-01-07', '2011-01-08',\n",
       "               '2011-01-10', '2011-01-12'],\n",
       "              dtype='datetime64[ns]', freq=None)"
      ]
     },
     "execution_count": 26,
     "metadata": {},
     "output_type": "execute_result"
    }
   ],
   "source": [
    "ts.index"
   ]
  },
  {
   "cell_type": "code",
   "execution_count": 27,
   "metadata": {},
   "outputs": [
    {
     "data": {
      "text/plain": [
       "2011-01-02    1.717568\n",
       "2011-01-05         NaN\n",
       "2011-01-07   -0.010412\n",
       "2011-01-08         NaN\n",
       "2011-01-10   -0.822208\n",
       "2011-01-12         NaN\n",
       "dtype: float64"
      ]
     },
     "execution_count": 27,
     "metadata": {},
     "output_type": "execute_result"
    }
   ],
   "source": [
    "ts + ts[::2]"
   ]
  },
  {
   "cell_type": "code",
   "execution_count": 28,
   "metadata": {},
   "outputs": [
    {
     "data": {
      "text/plain": [
       "dtype('<M8[ns]')"
      ]
     },
     "execution_count": 28,
     "metadata": {},
     "output_type": "execute_result"
    }
   ],
   "source": [
    "ts.index.dtype"
   ]
  },
  {
   "cell_type": "code",
   "execution_count": 29,
   "metadata": {},
   "outputs": [
    {
     "data": {
      "text/plain": [
       "-0.0052058656297722114"
      ]
     },
     "execution_count": 29,
     "metadata": {},
     "output_type": "execute_result"
    }
   ],
   "source": [
    "ts[ts.index[2]]"
   ]
  },
  {
   "cell_type": "code",
   "execution_count": 30,
   "metadata": {},
   "outputs": [],
   "source": [
    "longer_ts = pd.Series(np.random.randn(1000), index=pd.date_range('1/1/2000', periods=1000))"
   ]
  },
  {
   "cell_type": "code",
   "execution_count": 31,
   "metadata": {},
   "outputs": [
    {
     "data": {
      "text/plain": [
       "2000-01-01   -0.670551\n",
       "2000-01-02    0.645525\n",
       "2000-01-03    2.152476\n",
       "2000-01-04   -1.100615\n",
       "2000-01-05   -0.769323\n",
       "2000-01-06   -0.180184\n",
       "2000-01-07    0.109700\n",
       "2000-01-08    0.724024\n",
       "2000-01-09   -1.050776\n",
       "2000-01-10    0.767267\n",
       "2000-01-11    1.255781\n",
       "2000-01-12   -0.559452\n",
       "2000-01-13    0.330521\n",
       "2000-01-14   -0.283046\n",
       "2000-01-15   -2.092174\n",
       "2000-01-16   -0.115817\n",
       "2000-01-17   -0.979003\n",
       "2000-01-18    0.847147\n",
       "2000-01-19    0.884916\n",
       "2000-01-20    0.091741\n",
       "2000-01-21    0.156514\n",
       "2000-01-22   -1.707772\n",
       "2000-01-23   -1.737809\n",
       "2000-01-24   -1.518048\n",
       "2000-01-25   -0.822824\n",
       "2000-01-26    0.042766\n",
       "2000-01-27   -0.811825\n",
       "2000-01-28   -2.447904\n",
       "2000-01-29   -0.574756\n",
       "2000-01-30   -1.235084\n",
       "                ...   \n",
       "2002-08-28    1.054616\n",
       "2002-08-29    0.793366\n",
       "2002-08-30   -0.767673\n",
       "2002-08-31   -0.922342\n",
       "2002-09-01   -1.453468\n",
       "2002-09-02    2.562827\n",
       "2002-09-03    1.588496\n",
       "2002-09-04    1.116003\n",
       "2002-09-05   -1.207583\n",
       "2002-09-06   -0.609837\n",
       "2002-09-07   -0.392635\n",
       "2002-09-08    0.194612\n",
       "2002-09-09   -0.861801\n",
       "2002-09-10   -0.450224\n",
       "2002-09-11   -0.271885\n",
       "2002-09-12   -0.003809\n",
       "2002-09-13    2.010456\n",
       "2002-09-14   -0.522370\n",
       "2002-09-15   -1.115666\n",
       "2002-09-16    1.104241\n",
       "2002-09-17    1.415427\n",
       "2002-09-18   -1.427897\n",
       "2002-09-19   -0.417603\n",
       "2002-09-20   -0.777878\n",
       "2002-09-21    0.453770\n",
       "2002-09-22   -0.659938\n",
       "2002-09-23    1.014617\n",
       "2002-09-24    0.009995\n",
       "2002-09-25    0.125117\n",
       "2002-09-26    0.366191\n",
       "Freq: D, Length: 1000, dtype: float64"
      ]
     },
     "execution_count": 31,
     "metadata": {},
     "output_type": "execute_result"
    }
   ],
   "source": [
    "longer_ts"
   ]
  },
  {
   "cell_type": "code",
   "execution_count": 32,
   "metadata": {},
   "outputs": [
    {
     "data": {
      "text/plain": [
       "2001-01-01   -1.136145\n",
       "2001-01-02    1.133205\n",
       "2001-01-03    0.216035\n",
       "2001-01-04   -0.038758\n",
       "2001-01-05    0.285808\n",
       "2001-01-06    1.130877\n",
       "2001-01-07    0.512289\n",
       "2001-01-08   -1.088749\n",
       "2001-01-09    0.445960\n",
       "2001-01-10   -1.533602\n",
       "2001-01-11   -0.703268\n",
       "2001-01-12   -1.859568\n",
       "2001-01-13   -0.077195\n",
       "2001-01-14   -0.156563\n",
       "2001-01-15   -1.119659\n",
       "2001-01-16    0.774043\n",
       "2001-01-17    1.512813\n",
       "2001-01-18    0.575795\n",
       "2001-01-19    0.933928\n",
       "2001-01-20    1.480336\n",
       "2001-01-21    0.887884\n",
       "2001-01-22    0.340076\n",
       "2001-01-23    0.868885\n",
       "2001-01-24   -0.579204\n",
       "2001-01-25    2.628545\n",
       "2001-01-26    0.420770\n",
       "2001-01-27   -1.382631\n",
       "2001-01-28   -0.668376\n",
       "2001-01-29    0.784269\n",
       "2001-01-30   -1.597467\n",
       "                ...   \n",
       "2001-12-02    0.632233\n",
       "2001-12-03   -0.613352\n",
       "2001-12-04   -0.577833\n",
       "2001-12-05   -1.023279\n",
       "2001-12-06   -0.936198\n",
       "2001-12-07    0.265356\n",
       "2001-12-08   -0.699852\n",
       "2001-12-09   -0.404033\n",
       "2001-12-10   -0.403478\n",
       "2001-12-11   -1.662911\n",
       "2001-12-12    0.697255\n",
       "2001-12-13    0.598931\n",
       "2001-12-14   -1.379925\n",
       "2001-12-15   -0.110590\n",
       "2001-12-16   -0.460709\n",
       "2001-12-17    1.264052\n",
       "2001-12-18   -0.595457\n",
       "2001-12-19    0.421058\n",
       "2001-12-20   -0.543289\n",
       "2001-12-21   -1.161619\n",
       "2001-12-22    1.296676\n",
       "2001-12-23    0.272118\n",
       "2001-12-24   -1.128584\n",
       "2001-12-25   -0.137239\n",
       "2001-12-26    1.067941\n",
       "2001-12-27    0.142715\n",
       "2001-12-28   -0.803463\n",
       "2001-12-29    0.880706\n",
       "2001-12-30    0.326173\n",
       "2001-12-31   -1.344949\n",
       "Freq: D, Length: 365, dtype: float64"
      ]
     },
     "execution_count": 32,
     "metadata": {},
     "output_type": "execute_result"
    }
   ],
   "source": [
    "longer_ts['2001']"
   ]
  },
  {
   "cell_type": "code",
   "execution_count": 36,
   "metadata": {},
   "outputs": [
    {
     "data": {
      "text/plain": [
       "2011-01-02    0.858784\n",
       "2011-01-05    0.329254\n",
       "2011-01-07   -0.005206\n",
       "2011-01-08    0.534225\n",
       "2011-01-10   -0.411104\n",
       "2011-01-12    0.629748\n",
       "dtype: float64"
      ]
     },
     "execution_count": 36,
     "metadata": {},
     "output_type": "execute_result"
    }
   ],
   "source": [
    "ts"
   ]
  },
  {
   "cell_type": "code",
   "execution_count": 37,
   "metadata": {},
   "outputs": [
    {
     "data": {
      "text/plain": [
       "2011-01-08    0.534225\n",
       "2011-01-10   -0.411104\n",
       "2011-01-12    0.629748\n",
       "dtype: float64"
      ]
     },
     "execution_count": 37,
     "metadata": {},
     "output_type": "execute_result"
    }
   ],
   "source": [
    "ts[datetime(2011, 1, 8):]"
   ]
  },
  {
   "cell_type": "code",
   "execution_count": 38,
   "metadata": {},
   "outputs": [],
   "source": [
    "dates = pd.DatetimeIndex(['1/1/2000', '1/2/2000', '1/2/2000',\n",
    "   ....:                           '1/2/2000', '1/3/2000'])"
   ]
  },
  {
   "cell_type": "code",
   "execution_count": 39,
   "metadata": {},
   "outputs": [
    {
     "data": {
      "text/plain": [
       "2000-01-01    0\n",
       "2000-01-02    1\n",
       "2000-01-02    2\n",
       "2000-01-02    3\n",
       "2000-01-03    4\n",
       "dtype: int32"
      ]
     },
     "execution_count": 39,
     "metadata": {},
     "output_type": "execute_result"
    }
   ],
   "source": [
    "dup_ts = pd.Series(np.arange(5), index=dates)\n",
    "dup_ts"
   ]
  },
  {
   "cell_type": "code",
   "execution_count": 40,
   "metadata": {},
   "outputs": [
    {
     "data": {
      "text/plain": [
       "False"
      ]
     },
     "execution_count": 40,
     "metadata": {},
     "output_type": "execute_result"
    }
   ],
   "source": [
    "dup_ts.index.is_unique"
   ]
  },
  {
   "cell_type": "code",
   "execution_count": null,
   "metadata": {},
   "outputs": [],
   "source": []
  }
 ],
 "metadata": {
  "kernelspec": {
   "display_name": "Python 3",
   "language": "python",
   "name": "python3"
  },
  "language_info": {
   "codemirror_mode": {
    "name": "ipython",
    "version": 3
   },
   "file_extension": ".py",
   "mimetype": "text/x-python",
   "name": "python",
   "nbconvert_exporter": "python",
   "pygments_lexer": "ipython3",
   "version": "3.6.5"
  }
 },
 "nbformat": 4,
 "nbformat_minor": 2
}
