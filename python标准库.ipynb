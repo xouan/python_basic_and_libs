{
 "cells": [
  {
   "cell_type": "markdown",
   "metadata": {},
   "source": [
    "# 数学函数与统计"
   ]
  },
  {
   "cell_type": "code",
   "execution_count": 1,
   "metadata": {},
   "outputs": [],
   "source": [
    "import math"
   ]
  },
  {
   "cell_type": "markdown",
   "metadata": {},
   "source": [
    "1. 常量\n",
    "    - math.pi\n",
    "    - math.e\n",
    "    - math.nan 非数字\n",
    "    - math.inf 无限大\n",
    "2. 数论函数\n",
    "   - math.ceil(x) 向上取整\n",
    "   - math.floor(x) 向下取整\n",
    "   - math.trunc(x) 取整数部分\n",
    "   - math.fabs(x) 绝对值\n",
    "   - math.fmod(x,y) 浮点取余\n",
    "   - math.fsum(alist) 浮点求和\n",
    "3. 指数与对数\n",
    "   - math.exp(x) 指数函数\n",
    "   - math.log(x) 对数函数，e为底\n",
    "   - math.log2(x) 对数函数，2为底\n",
    "   - math.log10(x) 对数函数，10为底\n",
    "   - math.pow(x, y) 幂函数，y为次数\n",
    "   - math.sqrt(x) 平方根\n",
    "4. 三角\n",
    "   - sin(x)\n",
    "   - cos(x)\n",
    "   - tan(x)\n",
    "   - acos(x)\n",
    "   - asin(x)\n",
    "   - atan(x)\n",
    "   - degrees(x) 弧度转角度\n",
    "   - radians(x) 角度转弧度\n",
    "5. 双曲\n",
    "   - asinh(x)\n",
    "   - acosh(x)\n",
    "   - atanh(x)\n",
    "   - sinh(x)\n",
    "   - cosh(x)\n",
    "   - tanh(x)\n",
    "6. 特殊"
   ]
  },
  {
   "cell_type": "code",
   "execution_count": 18,
   "metadata": {},
   "outputs": [
    {
     "data": {
      "text/plain": [
       "8.0"
      ]
     },
     "execution_count": 18,
     "metadata": {},
     "output_type": "execute_result"
    }
   ],
   "source": [
    "math.fmod(10, 8)\n",
    "math.pow(2, 3)"
   ]
  },
  {
   "cell_type": "code",
   "execution_count": 4,
   "metadata": {},
   "outputs": [
    {
     "name": "stdout",
     "output_type": "stream",
     "text": [
      "pi:3.141592653589793115997963468544\n",
      "2.718281828459045\n",
      "nan\n",
      "inf\n"
     ]
    }
   ],
   "source": [
    "# 1专用常量\n",
    "print('pi:{:.30f}'.format(math.pi))\n",
    "print(math.e)\n",
    "print(math.nan) # 表示空值\n",
    "print(math.inf) # 表示无限大"
   ]
  },
  {
   "cell_type": "code",
   "execution_count": 8,
   "metadata": {},
   "outputs": [
    {
     "name": "stdout",
     "output_type": "stream",
     "text": [
      " e  x      x**2   isinf \n",
      "--- ------ ------ ------\n",
      "  0 1      1      False \n",
      " 20 1e+20  1e+40  False \n",
      " 40 1e+40  1e+80  False \n",
      " 60 1e+60  1e+120 False \n",
      " 80 1e+80  1e+160 False \n",
      "100 1e+100 1e+200 False \n",
      "120 1e+120 1e+240 False \n",
      "140 1e+140 1e+280 False \n",
      "160 1e+160 inf    True  \n",
      "180 1e+180 inf    True  \n",
      "200 1e+200 inf    True  \n"
     ]
    }
   ],
   "source": [
    "# 2测试异常值，比如浮点运算溢出\n",
    "print('{:^3} {:6} {:6} {:6}'.format('e', 'x', 'x**2', 'isinf'))\n",
    "print('{:-^3} {:-^6} {:-^6} {:-^6}'.format(\n",
    "    '', '', '', ''))\n",
    "for e in range(0, 201, 20):\n",
    "    x = 10.0 ** e\n",
    "    y = x * x\n",
    "    print('{:3d} {:<6g} {:<6g} {!s:6}'.format(e, x, y, math.isinf(y)))"
   ]
  },
  {
   "cell_type": "code",
   "execution_count": 9,
   "metadata": {},
   "outputs": [
    {
     "name": "stdout",
     "output_type": "stream",
     "text": [
      "x = inf\n",
      "isnan(x) = False\n",
      "y = x / x = nan\n",
      "y == nan = False\n",
      "isnan(y) = True\n"
     ]
    }
   ],
   "source": [
    "x = (10.0 ** 200) * (10.0 ** 200)\n",
    "y = x / x\n",
    "\n",
    "print('x =', x)\n",
    "print('isnan(x) =', math.isnan(x))\n",
    "print('y = x / x =', x / x)\n",
    "print('y == nan =', y == float('nan'))\n",
    "print('isnan(y) =', math.isnan(y))"
   ]
  },
  {
   "cell_type": "code",
   "execution_count": 13,
   "metadata": {},
   "outputs": [
    {
     "name": "stdout",
     "output_type": "stream",
     "text": [
      "  i    int  trunk floor ceil \n",
      "----- ----- ----- ----- -----\n",
      " -1.5  -1.0  -1.0  -2.0  -1.0\n",
      " -0.8   0.0   0.0  -1.0   0.0\n",
      " -0.5   0.0   0.0  -1.0   0.0\n",
      " -0.2   0.0   0.0  -1.0   0.0\n",
      "  0.0   0.0   0.0   0.0   0.0\n",
      "  0.2   0.0   0.0   0.0   1.0\n",
      "  0.5   0.0   0.0   0.0   1.0\n",
      "  0.8   0.0   0.0   0.0   1.0\n",
      "  1.0   1.0   1.0   1.0   1.0\n"
     ]
    }
   ],
   "source": [
    "# 3 浮点类型转换为整形\n",
    "# - int() 取整数部分\n",
    "# - math.trunk() 取整数部分\n",
    "# - math.floor() 向下取整，小于值的数\n",
    "# - math.ceil() 向上取整，大于值的数\n",
    "HEADINGS = ('i', 'int', 'trunk', 'floor', 'ceil')\n",
    "print('{:^5} {:^5} {:^5} {:^5} {:^5}'.format(*HEADINGS))\n",
    "print('{:-^5} {:-^5} {:-^5} {:-^5} {:-^5}'.format(\n",
    "    '', '', '', '', '',\n",
    "))\n",
    "fmt = '{:5.1f} {:5.1f} {:5.1f} {:5.1f} {:5.1f}'\n",
    "\n",
    "TEST_VALUES = [\n",
    "    -1.5,\n",
    "    -0.8,\n",
    "    -0.5,\n",
    "    -0.2,\n",
    "    0,\n",
    "    0.2,\n",
    "    0.5,\n",
    "    0.8,\n",
    "    1,\n",
    "]\n",
    "for i in TEST_VALUES:\n",
    "    print(fmt.format(i, int(i), math.trunc(i), math.floor(i), math.ceil(i)))"
   ]
  },
  {
   "cell_type": "code",
   "execution_count": 15,
   "metadata": {},
   "outputs": [
    {
     "name": "stdout",
     "output_type": "stream",
     "text": [
      "1.1\n",
      "1.1\n"
     ]
    }
   ],
   "source": [
    "# 4 符号函数\n",
    "print(math.fabs(-1.1))\n",
    "print(math.fabs(1.1))"
   ]
  },
  {
   "cell_type": "code",
   "execution_count": null,
   "metadata": {},
   "outputs": [],
   "source": []
  }
 ],
 "metadata": {
  "kernelspec": {
   "display_name": "Python 3",
   "language": "python",
   "name": "python3"
  },
  "language_info": {
   "codemirror_mode": {
    "name": "ipython",
    "version": 3
   },
   "file_extension": ".py",
   "mimetype": "text/x-python",
   "name": "python",
   "nbconvert_exporter": "python",
   "pygments_lexer": "ipython3",
   "version": "3.6.5"
  }
 },
 "nbformat": 4,
 "nbformat_minor": 2
}
