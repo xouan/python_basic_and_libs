{
 "cells": [
  {
   "cell_type": "markdown",
   "metadata": {},
   "source": [
    "# 类与继承"
   ]
  },
  {
   "cell_type": "code",
   "execution_count": 1,
   "metadata": {},
   "outputs": [],
   "source": [
    "class SimpleGradeBook(object):\n",
    "    def __init__(self):\n",
    "        self._grades = {}\n",
    "    \n",
    "    def add_student(self, name):\n",
    "        self._grades[name] = []\n",
    "        \n",
    "    def report_grade(self, name, score):\n",
    "        self._grades[name].append(score)\n",
    "        \n",
    "    def average_grade(self, name):\n",
    "        grades = self._grades[name]\n",
    "        return sum(grades) / len(grades)"
   ]
  },
  {
   "cell_type": "code",
   "execution_count": 2,
   "metadata": {},
   "outputs": [],
   "source": [
    "book = SimpleGradeBook()"
   ]
  },
  {
   "cell_type": "code",
   "execution_count": 3,
   "metadata": {},
   "outputs": [
    {
     "data": {
      "text/plain": [
       "78.0"
      ]
     },
     "execution_count": 3,
     "metadata": {},
     "output_type": "execute_result"
    }
   ],
   "source": [
    "book.add_student('a')\n",
    "book.report_grade('a', 78)\n",
    "book.average_grade('a')"
   ]
  },
  {
   "cell_type": "code",
   "execution_count": 5,
   "metadata": {},
   "outputs": [],
   "source": [
    "class BySubjectGradeBook(object):\n",
    "    def __init__(self):\n",
    "        self._grades = {}\n",
    "    \n",
    "    def add_student(self, name):\n",
    "        self._grades[name] = {}\n",
    "        \n",
    "    def report_grade(self, name, subject, grade):\n",
    "        by_subject = self._grades[name]\n",
    "        grade_list = by_subject.setdefault(subject, [])\n",
    "        grade_list.append(grade)\n",
    "        \n",
    "    def average_grade(self, name):\n",
    "        by_subject = self._grades[name]\n",
    "        total, count = 0, 0\n",
    "        for grades in by_subject.values():\n",
    "            total += sum(grades)\n",
    "            count += len(grades)\n",
    "        return total / count"
   ]
  },
  {
   "cell_type": "code",
   "execution_count": 15,
   "metadata": {},
   "outputs": [
    {
     "name": "stdout",
     "output_type": "stream",
     "text": [
      "{'a': {}}\n"
     ]
    },
    {
     "data": {
      "text/plain": [
       "{'a': {'math': [78, 65]}}"
      ]
     },
     "execution_count": 15,
     "metadata": {},
     "output_type": "execute_result"
    }
   ],
   "source": [
    "book = BySubjectGradeBook()\n",
    "book.add_student('a')\n",
    "print(book._grades)\n",
    "book.report_grade('a', 'math', 78)\n",
    "book.report_grade('a', 'math', 65)\n",
    "book._grades"
   ]
  },
  {
   "cell_type": "code",
   "execution_count": 22,
   "metadata": {},
   "outputs": [],
   "source": [
    "import collections\n",
    "Grade = collections.namedtuple('Grade', ('score', 'weight'))\n",
    "class Subject(object):\n",
    "    def __init__(self):\n",
    "        self._grades = []\n",
    "    def report_grade(self, score, weight):\n",
    "        self._grades.append(Grade(score, weight))\n",
    "    def average_grade(self):\n",
    "        total, total_weight = 0, 0\n",
    "        for grade in self._grades:\n",
    "            total += grade.score * grade.weight\n",
    "            total_weight += grade.weight\n",
    "        return total / total_weight\n",
    "class Student(object):\n",
    "    def __init__(self):\n",
    "        self._subjects = {}\n",
    "    def subject(self, name):\n",
    "        if name not in self._subjects:\n",
    "            self._subjects[name] = Subject()\n",
    "        return self._subjects[name]\n",
    "    def average_grade(self):\n",
    "        total, count = 0, 0\n",
    "        for subject in self._subjects.values():\n",
    "            total += subject.average_grade()\n",
    "            count += 1\n",
    "        return total / count\n",
    "class GradeBook(object):\n",
    "    def __init__(self):\n",
    "        self._students = {}\n",
    "    def student(self, name):\n",
    "        if name not in  self._students:\n",
    "            self._students[name] = Student()\n",
    "        return self._students[name]\n",
    "    "
   ]
  },
  {
   "cell_type": "code",
   "execution_count": 23,
   "metadata": {},
   "outputs": [],
   "source": [
    "book = GradeBook()"
   ]
  },
  {
   "cell_type": "code",
   "execution_count": 24,
   "metadata": {},
   "outputs": [],
   "source": [
    "albert = book.student('albert einstein')"
   ]
  },
  {
   "cell_type": "code",
   "execution_count": 25,
   "metadata": {},
   "outputs": [],
   "source": [
    "math = albert.subject('math')"
   ]
  },
  {
   "cell_type": "code",
   "execution_count": 28,
   "metadata": {},
   "outputs": [],
   "source": [
    "math.report_grade(80, 0.1)\n",
    "math.report_grade(75, 0.3)"
   ]
  },
  {
   "cell_type": "code",
   "execution_count": 29,
   "metadata": {},
   "outputs": [
    {
     "name": "stdout",
     "output_type": "stream",
     "text": [
      "77.0\n"
     ]
    }
   ],
   "source": [
    "print(albert.average_grade())"
   ]
  },
  {
   "cell_type": "code",
   "execution_count": null,
   "metadata": {},
   "outputs": [],
   "source": []
  }
 ],
 "metadata": {
  "kernelspec": {
   "display_name": "Python 3",
   "language": "python",
   "name": "python3"
  },
  "language_info": {
   "codemirror_mode": {
    "name": "ipython",
    "version": 3
   },
   "file_extension": ".py",
   "mimetype": "text/x-python",
   "name": "python",
   "nbconvert_exporter": "python",
   "pygments_lexer": "ipython3",
   "version": "3.6.5"
  }
 },
 "nbformat": 4,
 "nbformat_minor": 2
}
